{
 "cells": [
  {
   "cell_type": "code",
   "execution_count": 1,
   "metadata": {},
   "outputs": [],
   "source": [
    "#21. Escribir un programa que determine si el año es bisiesto. Un año es bisiesto si es múltiplo de 4 (1988), \n",
    "#excepto los múltiplos de 100 que no son bisiestos salvo que a su vez también sean múltiplos de 400 \n",
    "#(1800no es bisiesto, 2000 sí). \n"
   ]
  },
  {
   "cell_type": "code",
   "execution_count": 4,
   "metadata": {},
   "outputs": [
    {
     "name": "stdout",
     "output_type": "stream",
     "text": [
      "Ingrese un año: 2009\n",
      "2009 no es bisiesto\n"
     ]
    }
   ],
   "source": [
    "year=int(input(\"Ingrese un año: \"))\n",
    "if(year%400==0):\n",
    "    print(f\"{year} es bisiesto\")\n",
    "elif(year%4==0 and year%100==0):\n",
    "    print(f\"{year} no es bisiesto\")\n",
    "elif(year%4==0):\n",
    "    print(f\"{year} es bisiesto\")\n",
    "else:\n",
    "    print(f\"{year} no es bisiesto\")"
   ]
  },
  {
   "cell_type": "code",
   "execution_count": 5,
   "metadata": {},
   "outputs": [],
   "source": [
    "#Dado los valores de A, B, C que son los coeficientes de la ecuación de segundo grado, hallar sus raíces reales, desplegar los resultados. \n"
   ]
  },
  {
   "cell_type": "code",
   "execution_count": 10,
   "metadata": {},
   "outputs": [
    {
     "name": "stdout",
     "output_type": "stream",
     "text": [
      "Coeficiente de A= 84\n",
      "Coeficiente de B= 4\n",
      "Coeficiente de C= 55\n",
      "La ecuacion tiene no tiene soluciones reales\n"
     ]
    }
   ],
   "source": [
    "import math\n",
    "coA = int(input(\"Coeficiente de A= \"))\n",
    "coB = int(input(\"Coeficiente de B= \"))\n",
    "coC = int(input(\"Coeficiente de C= \"))\n",
    "i=(coB**2)-(4*coA*coC)\n",
    "if(i>=0):\n",
    "    res = (-coB + math.sqrt(t)) / (2*coA)\n",
    "    res2 = (-coB - math.sqrt(t)) / (2*coA)\n",
    "    if(res==res2):\n",
    "        print(\"La ecuacion tiene una unica solucion\",round(res,2))\n",
    "    else:\n",
    "        print(\"La ecuacion tiene dos soluciones\",round(res,2),\" y \",round(res2,2))  \n",
    "else:\n",
    "    print(\"La ecuacion tiene no tiene soluciones reales\")"
   ]
  },
  {
   "cell_type": "code",
   "execution_count": 13,
   "metadata": {},
   "outputs": [],
   "source": [
    "#23. Dado dos valores A y B, realizar el producto de los dos números por sumas sucesivas, almacenar el resultado en una\n",
    "#variable P, mostrar el resultado."
   ]
  },
  {
   "cell_type": "code",
   "execution_count": 25,
   "metadata": {},
   "outputs": [
    {
     "name": "stdout",
     "output_type": "stream",
     "text": [
      "Ingrese un numero= 8\n",
      "Ingrese otro numero= 8\n",
      "La producto de 8 y 8 =  64\n"
     ]
    }
   ],
   "source": [
    "a=int(input(\"Ingrese un numero= \"))\n",
    "b=int(input(\"Ingrese otro numero= \"))\n",
    "suma=0\n",
    "c=0\n",
    "sol\n",
    "print(f\"La producto de {a} y {b} = \",end=\" \")\n",
    "numeros=[a,b]\n",
    "if(b<0 and a<0):\n",
    "    sol=-1\n",
    "else:\n",
    "    sol=1\n",
    "b=abs(max(numeros))\n",
    "a=min(numeros)\n",
    "while c<num2:\n",
    "    suma=suma+a\n",
    "    c=c+1\n",
    "print(sol*suma)"
   ]
  },
  {
   "cell_type": "code",
   "execution_count": 26,
   "metadata": {},
   "outputs": [],
   "source": [
    "#24. Dado un número X, determinar el número de dígitos del que esta compuesto y desplegar el resultado.\n"
   ]
  },
  {
   "cell_type": "code",
   "execution_count": 12,
   "metadata": {},
   "outputs": [
    {
     "name": "stdout",
     "output_type": "stream",
     "text": [
      "Ingrese un numero: 8897\n",
      "Numero de digitos que esta compuesto: \n",
      "4\n"
     ]
    }
   ],
   "source": [
    "a= int((input(\"Ingrese un numero: \")))\n",
    "c=0\n",
    "while not a<10:\n",
    "    a=a//10\n",
    "    c=c+1\n",
    "print(\"Numero de digitos que esta compuesto: \")\n",
    "print(c+1)"
   ]
  },
  {
   "cell_type": "code",
   "execution_count": 14,
   "metadata": {},
   "outputs": [],
   "source": [
    "#25. Escribir un programa que calcule y visualice el más grande, el más pequeño y la media de N números. \n",
    "#El valor de N se solicitará al principio del programa y los números serán introducidos por el usuario."
   ]
  },
  {
   "cell_type": "code",
   "execution_count": 1,
   "metadata": {},
   "outputs": [
    {
     "name": "stdout",
     "output_type": "stream",
     "text": [
      "Números que desea imprimir: 3\n",
      "Escriba un numero(1 de 3): 5\n",
      "Escriba un numero(2 de 3): 9\n",
      "Escriba un numero(3 de 3): 89\n",
      "El número menor es: 5, el más grande es: 89 promedio: 34.333333333333336\n"
     ]
    }
   ],
   "source": [
    "a = int(input(\"Números que desea imprimir: \"))\n",
    "i = 0\n",
    "num=[]\n",
    "c = 1\n",
    "while c<=a:\n",
    "    i = int(input(f\"Escriba un numero({c} de {a}): \"))\n",
    "    num.append(i)\n",
    "    c=c+1\n",
    "num.sort\n",
    "print(f\"El número menor es: {num[0]}, el más grande es: {num[-1]} promedio: {sum(num)/a}\")"
   ]
  },
  {
   "cell_type": "code",
   "execution_count": 2,
   "metadata": {},
   "outputs": [],
   "source": [
    "#26. Dado dos números A y B enteros mayores a cero, hallar A^B por sumas. Desplegar los números y el resultado."
   ]
  },
  {
   "cell_type": "code",
   "execution_count": 4,
   "metadata": {},
   "outputs": [
    {
     "name": "stdout",
     "output_type": "stream",
     "text": [
      "Ingrese un numero A (mayor a cero): 9\n",
      "Ingrese otro numero B (mayor a cero): 8\n",
      "9 ^ 8 =  59049\n"
     ]
    }
   ],
   "source": [
    "a=int(input(\"Ingrese un numero A (mayor a cero): \"))\n",
    "b=int(input(\"Ingrese otro numero B (mayor a cero): \"))\n",
    "sum=1\n",
    "c=0\n",
    "print(f\"{a} ^ {b} = \",end=\" \")\n",
    "while c<num2:\n",
    "    sum=sum*a\n",
    "    c=c+1\n",
    "print(sum)"
   ]
  },
  {
   "cell_type": "code",
   "execution_count": 5,
   "metadata": {},
   "outputs": [],
   "source": [
    "#27. La constante pi (3.1441592...) es muy utilizada en matemáticas. Un método sencillo de calcular su valor es:\n",
    "#Escribir un programa que efectúe este cálculo con un número de términos especificando por el usuario."
   ]
  },
  {
   "cell_type": "code",
   "execution_count": 8,
   "metadata": {},
   "outputs": [
    {
     "name": "stdout",
     "output_type": "stream",
     "text": [
      "Ingrese el numero de terminos que quiere para calcular pi: 6\n",
      "2.9257142857\n"
     ]
    }
   ],
   "source": [
    "terminos=int(input(\"Ingrese el numero de terminos que quiere para calcular pi: \"))\n",
    "pi=2.0\n",
    "for n in range(1,terminos+1):\n",
    "    if(n%2==0):  \n",
    "        pi  =  pi * n/(n+1)\n",
    "    elif(n%2==1): \n",
    "        pi  =  pi * (n+1)/n\n",
    "print(round(pi,10))"
   ]
  },
  {
   "cell_type": "code",
   "execution_count": 9,
   "metadata": {},
   "outputs": [],
   "source": [
    "#28. El valor de e^x se puede aproximar por la suma Escribir un programa que tome un valor de x como entrada \n",
    "#y visualice la suma para cada uno de los valores de 1 a 100."
   ]
  },
  {
   "cell_type": "code",
   "execution_count": 13,
   "metadata": {},
   "outputs": [
    {
     "name": "stdout",
     "output_type": "stream",
     "text": [
      "Ingrese x para calcular e^x: 6\n",
      "e^6 = 1.8147739541668638e+74 "
     ]
    }
   ],
   "source": [
    "import math\n",
    "x=int(input(\"Ingrese x para calcular e^x: \"))\n",
    "print(f\"e^{x} = \",end=\"\")\n",
    "sum=1+x\n",
    "for i in range(2,100):\n",
    "    sum=sum+(x**i/math.factorial(x))\n",
    "print(round(sum,2),end=\" \")"
   ]
  },
  {
   "cell_type": "code",
   "execution_count": 14,
   "metadata": {},
   "outputs": [],
   "source": [
    "#29. Calcular la suma de todos los elementos de un vector, así como la media aritmética."
   ]
  },
  {
   "cell_type": "code",
   "execution_count": 2,
   "metadata": {},
   "outputs": [
    {
     "name": "stdout",
     "output_type": "stream",
     "text": [
      "Ingrese los elementos del vector: 3\n",
      "Ingrese el elemento 1: 5\n",
      "Ingrese el elemento 2: 5\n",
      "Ingrese el elemento 3: 5\n",
      "La suma de los elementos es 15\n",
      "El promedio: 5.0\n"
     ]
    }
   ],
   "source": [
    "a=int(input(\"Ingrese los elementos del vector: \"))\n",
    "lst=[]\n",
    "for x in range(0,a):\n",
    "    a=int(input(f\"Ingrese el elemento {x+1}: \"))\n",
    "    lst.append(a)\n",
    "print(f\"La suma de los elementos es {sum(lst)}\")\n",
    "print(f\"El promedio: {sum(lst)/len(lst)}\")"
   ]
  },
  {
   "cell_type": "code",
   "execution_count": 13,
   "metadata": {},
   "outputs": [],
   "source": [
    "#Multiplicar dos matrices. \n"
   ]
  },
  {
   "cell_type": "code",
   "execution_count": 3,
   "metadata": {},
   "outputs": [
    {
     "ename": "ModuleNotFoundError",
     "evalue": "No module named 'numpy'",
     "output_type": "error",
     "traceback": [
      "\u001b[1;31m---------------------------------------------------------------------------\u001b[0m",
      "\u001b[1;31mModuleNotFoundError\u001b[0m                       Traceback (most recent call last)",
      "\u001b[1;32m<ipython-input-3-b33a715d7d87>\u001b[0m in \u001b[0;36m<module>\u001b[1;34m\u001b[0m\n\u001b[1;32m----> 1\u001b[1;33m \u001b[1;32mimport\u001b[0m \u001b[0mnumpy\u001b[0m \u001b[1;32mas\u001b[0m \u001b[0mnp\u001b[0m\u001b[1;33m\u001b[0m\u001b[1;33m\u001b[0m\u001b[0m\n\u001b[0m\u001b[0;32m      2\u001b[0m \u001b[0ma\u001b[0m \u001b[1;33m=\u001b[0m \u001b[1;33m[\u001b[0m\u001b[1;33m[\u001b[0m\u001b[1;36m2\u001b[0m\u001b[1;33m,\u001b[0m\u001b[1;36m3\u001b[0m\u001b[1;33m]\u001b[0m\u001b[1;33m,\u001b[0m\u001b[1;33m[\u001b[0m\u001b[1;36m4\u001b[0m\u001b[1;33m,\u001b[0m\u001b[1;36m5\u001b[0m\u001b[1;33m]\u001b[0m\u001b[1;33m]\u001b[0m\u001b[1;33m\u001b[0m\u001b[1;33m\u001b[0m\u001b[0m\n\u001b[0;32m      3\u001b[0m \u001b[0mb\u001b[0m \u001b[1;33m=\u001b[0m \u001b[1;33m[\u001b[0m\u001b[1;33m[\u001b[0m\u001b[1;36m4\u001b[0m\u001b[1;33m,\u001b[0m\u001b[1;36m9\u001b[0m\u001b[1;33m]\u001b[0m\u001b[1;33m,\u001b[0m\u001b[1;33m[\u001b[0m\u001b[1;36m9\u001b[0m\u001b[1;33m,\u001b[0m\u001b[1;36m7\u001b[0m\u001b[1;33m]\u001b[0m\u001b[1;33m]\u001b[0m\u001b[1;33m\u001b[0m\u001b[1;33m\u001b[0m\u001b[0m\n\u001b[0;32m      4\u001b[0m \u001b[0mnp\u001b[0m\u001b[1;33m.\u001b[0m\u001b[0mdot\u001b[0m\u001b[1;33m(\u001b[0m\u001b[0ma\u001b[0m\u001b[1;33m,\u001b[0m\u001b[0mb\u001b[0m\u001b[1;33m)\u001b[0m\u001b[1;33m\u001b[0m\u001b[1;33m\u001b[0m\u001b[0m\n",
      "\u001b[1;31mModuleNotFoundError\u001b[0m: No module named 'numpy'"
     ]
    }
   ],
   "source": [
    "import numpy as np \n",
    "a = [[2,3],[4,5]]\n",
    "b = [[4,9],[9,7]]\n",
    "np.dot(a,b)\n"
   ]
  }
 ],
 "metadata": {
  "kernelspec": {
   "display_name": "Python 3",
   "language": "python",
   "name": "python3"
  }
 },
 "nbformat": 4,
 "nbformat_minor": 4
}
